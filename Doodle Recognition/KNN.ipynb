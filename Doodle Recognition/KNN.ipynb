{
 "cells": [
  {
   "cell_type": "markdown",
   "metadata": {},
   "source": [
    "##### Model evaludation\n",
    "https://scikit-learn.org/stable/modules/model_evaluation.html\n",
    "\n",
    "##### sklearn.neighbors.KNeighborsClassifier\n",
    "https://scikit-learn.org/stable/modules/generated/sklearn.neighbors.KNeighborsClassifier.html#sklearn.neighbors.KNeighborsClassifier.kneighbors\n",
    "\n",
    "##### Model selection and evaluation\n",
    "https://scikit-learn.org/stable/model_selection.html\n",
    "\n",
    "Precision and Recall\n",
    "https://scikit-learn.org/stable/auto_examples/model_selection/plot_precision_recall.html#sphx-glr-auto-examples-model-selection-plot-precision-recall-py\n",
    "\n",
    "##### sklearn.metrics.roc_curve\n",
    "https://scikit-learn.org/stable/modules/generated/sklearn.metrics.roc_curve.html#sklearn.metrics.roc_curve\n",
    "\n",
    "##### sklearn.metrics.precision_recall_curve\n",
    "https://scikit-learn.org/stable/modules/generated/sklearn.metrics.precision_recall_curve.html\n",
    "\n",
    "\n",
    "##### Confusion Matrix\n",
    "https://stats.stackexchange.com/questions/51296/how-do-you-calculate-precision-and-recall-for-multiclass-classification-using-co"
   ]
  },
  {
   "cell_type": "code",
   "execution_count": 1,
   "metadata": {},
   "outputs": [],
   "source": [
    "# Baisc Tools\n",
    "import os\n",
    "import numpy as np\n",
    "import pandas as pd\n",
    "import pickle\n",
    "import mpu # mpu.datastructures.flatten() to flatten a list\n",
    " \n",
    "# timing\n",
    "import time\n",
    "\n",
    "# Plot\n",
    "import matplotlib.pyplot as plt\n",
    "%matplotlib inline\n",
    "import seaborn as sns\n",
    "#from scipy import misc # to show the image"
   ]
  },
  {
   "cell_type": "code",
   "execution_count": 2,
   "metadata": {},
   "outputs": [],
   "source": [
    "# Set wrok.dir\n",
    "work_path = \"C:/Users/WeiKuang/Desktop/BioStat 2018 Fall/ECS171_MachineLearning/Project_Data\"\n",
    "os.chdir(work_path)"
   ]
  },
  {
   "cell_type": "markdown",
   "metadata": {},
   "source": [
    "# DataLoading"
   ]
  },
  {
   "cell_type": "code",
   "execution_count": 4,
   "metadata": {},
   "outputs": [],
   "source": [
    "with open('xtrain_doodle.pickle', 'rb') as f:\n",
    "    X_train = pickle.load(f)\n",
    "\n",
    "with open('xtest_doodle.pickle', 'rb') as f:\n",
    "    X_test = pickle.load(f)\n",
    "\n",
    "with open('ytrain_doodle.pickle', 'rb') as f:\n",
    "    y_train = pickle.load(f)\n",
    "\n",
    "with open('ytest_doodle.pickle', 'rb') as f:\n",
    "    y_test = pickle.load(f)"
   ]
  },
  {
   "cell_type": "markdown",
   "metadata": {},
   "source": [
    "# Data Viewing \n",
    "category: (0,ant), (1,bear), (2, bee), (3,cat), (4,crab), (5,dragon), (6,elephant), (7, mouse), (8, sea turtle), (9, snail)"
   ]
  },
  {
   "cell_type": "code",
   "execution_count": 42,
   "metadata": {},
   "outputs": [],
   "source": [
    "Class = ['ant', 'bear', 'bee', 'cat', 'crab', 'dragon', 'elephant', 'mouse', 'sea turtle', 'snail']"
   ]
  },
  {
   "cell_type": "code",
   "execution_count": 43,
   "metadata": {},
   "outputs": [
    {
     "name": "stdout",
     "output_type": "stream",
     "text": [
      "Training set\n",
      "X (24000, 784)\n",
      "y (24000,)\n",
      "\n",
      "\n",
      "Testing set\n",
      "X (6000, 784)\n",
      "y (6000,)\n"
     ]
    }
   ],
   "source": [
    "print('Training set')\n",
    "print('X', X_train.shape)\n",
    "print('y', y_train.shape)\n",
    "print('\\n')\n",
    "print('Testing set')\n",
    "print('X', X_test.shape)\n",
    "print('y', y_test.shape)"
   ]
  },
  {
   "cell_type": "markdown",
   "metadata": {},
   "source": [
    "# X"
   ]
  },
  {
   "cell_type": "code",
   "execution_count": 5,
   "metadata": {},
   "outputs": [
    {
     "data": {
      "text/plain": [
       "array([0.        , 0.        , 0.        , 0.        , 0.        ,\n",
       "       0.        , 0.        , 0.        , 0.        , 0.        ,\n",
       "       0.        , 0.        , 0.        , 0.        , 0.        ,\n",
       "       0.        , 0.        , 0.        , 0.        , 0.        ,\n",
       "       0.        , 0.        , 0.        , 0.        , 0.        ,\n",
       "       0.        , 0.        , 0.        , 0.        , 0.        ,\n",
       "       0.        , 0.        , 0.        , 0.        , 0.        ,\n",
       "       0.        , 0.        , 0.        , 0.        , 0.        ,\n",
       "       0.        , 0.        , 0.        , 0.        , 0.        ,\n",
       "       0.        , 0.        , 0.        , 0.        , 0.        ,\n",
       "       0.        , 0.        , 0.        , 0.        , 0.        ,\n",
       "       0.        , 0.        , 0.        , 0.        , 0.        ,\n",
       "       0.        , 0.        , 0.        , 0.        , 0.        ,\n",
       "       0.        , 0.        , 0.        , 0.        , 0.        ,\n",
       "       0.        , 0.        , 0.        , 0.        , 0.        ,\n",
       "       0.        , 0.        , 0.        , 0.        , 0.        ,\n",
       "       0.        , 0.        , 0.        , 0.        , 0.        ,\n",
       "       0.        , 0.        , 0.        , 0.        , 0.        ,\n",
       "       0.        , 0.        , 0.        , 0.        , 0.        ,\n",
       "       0.        , 0.        , 0.        , 0.        , 0.        ,\n",
       "       0.        , 0.        , 0.        , 0.        , 0.        ,\n",
       "       0.        , 0.        , 0.        , 0.        , 0.        ,\n",
       "       0.        , 0.        , 0.        , 0.        , 0.        ,\n",
       "       0.        , 0.        , 0.        , 0.        , 0.        ,\n",
       "       0.        , 0.        , 0.        , 0.        , 0.        ,\n",
       "       0.        , 0.        , 0.        , 0.        , 0.        ,\n",
       "       0.        , 0.        , 0.        , 0.        , 0.        ,\n",
       "       0.        , 0.        , 0.        , 0.        , 0.        ,\n",
       "       0.        , 0.        , 0.        , 0.        , 0.        ,\n",
       "       0.        , 0.        , 0.        , 0.        , 0.        ,\n",
       "       0.        , 0.        , 0.        , 0.        , 0.        ,\n",
       "       0.        , 0.        , 0.        , 0.        , 0.        ,\n",
       "       0.        , 0.        , 0.        , 0.        , 0.        ,\n",
       "       0.        , 0.        , 0.        , 0.        , 0.        ,\n",
       "       0.        , 0.        , 0.        , 0.        , 0.        ,\n",
       "       0.        , 0.01176471, 0.03921569, 0.        , 0.        ,\n",
       "       0.        , 0.        , 0.        , 0.        , 0.        ,\n",
       "       0.        , 0.        , 0.        , 0.        , 0.        ,\n",
       "       0.        , 0.        , 0.        , 0.        , 0.        ,\n",
       "       0.        , 0.        , 0.        , 0.        , 0.        ,\n",
       "       0.        , 0.27058825, 0.52941179, 0.74901962, 0.95294118,\n",
       "       0.99607843, 0.86666667, 0.68627453, 0.27843139, 0.        ,\n",
       "       0.        , 0.        , 0.        , 0.14509805, 0.63137257,\n",
       "       0.02352941, 0.        , 0.        , 0.        , 0.        ,\n",
       "       0.        , 0.        , 0.        , 0.        , 0.        ,\n",
       "       0.        , 0.        , 0.03921569, 0.72156864, 1.        ,\n",
       "       0.95686275, 0.75686276, 0.5411765 , 0.45882353, 0.63137257,\n",
       "       0.86274511, 1.        , 0.63529414, 0.04313726, 0.        ,\n",
       "       0.        , 0.29411766, 1.        , 0.19215687, 0.        ,\n",
       "       0.        , 0.        , 0.        , 0.        , 0.        ,\n",
       "       0.        , 0.        , 0.        , 0.        , 0.        ,\n",
       "       0.58823532, 0.98823529, 0.49803922, 0.50980395, 0.82352942,\n",
       "       0.89019608, 0.67450982, 0.05490196, 0.01568628, 0.51372552,\n",
       "       1.        , 0.3137255 , 0.        , 0.        , 0.14117648,\n",
       "       1.        , 0.34509805, 0.        , 0.        , 0.        ,\n",
       "       0.        , 0.        , 0.46666667, 0.16470589, 0.        ,\n",
       "       0.        , 0.        , 0.10196079, 0.99215686, 0.64313728,\n",
       "       0.87843138, 1.        , 0.86666667, 0.60784316, 0.99215686,\n",
       "       0.49019608, 0.        , 0.15294118, 1.        , 0.32549021,\n",
       "       0.        , 0.        , 0.01176471, 0.97254902, 0.49803922,\n",
       "       0.20784314, 0.37254903, 0.00392157, 0.        , 0.29019609,\n",
       "       1.        , 0.34117648, 0.        , 0.        , 0.        ,\n",
       "       0.39607844, 1.        , 0.6901961 , 1.        , 1.        ,\n",
       "       0.99215686, 0.08235294, 0.90588236, 0.63921571, 0.        ,\n",
       "       0.15294118, 1.        , 0.32549021, 0.        , 0.        ,\n",
       "       0.        , 0.84313726, 0.87843138, 0.99607843, 1.        ,\n",
       "       0.68627453, 0.05882353, 0.80784315, 0.84313726, 0.01568628,\n",
       "       0.        , 0.        , 0.        , 0.69411767, 0.84705883,\n",
       "       0.7764706 , 1.        , 0.94509804, 0.32549021, 0.42352942,\n",
       "       1.        , 0.33725491, 0.        , 0.15294118, 1.        ,\n",
       "       0.32549021, 0.        , 0.        , 0.05490196, 0.85490197,\n",
       "       0.94509804, 0.4509804 , 0.41176471, 0.97254902, 0.80392158,\n",
       "       1.        , 0.30980393, 0.        , 0.        , 0.        ,\n",
       "       0.03137255, 0.96078432, 0.54509807, 0.74509805, 1.        ,\n",
       "       1.        , 1.        , 1.        , 0.82352942, 0.04705882,\n",
       "       0.        , 0.15294118, 1.        , 0.32549021, 0.        ,\n",
       "       0.        , 0.49803922, 0.98039216, 0.23137255, 0.        ,\n",
       "       0.04313726, 0.50980395, 0.98823529, 0.39607844, 0.        ,\n",
       "       0.        , 0.        , 0.        , 0.16862746, 1.        ,\n",
       "       0.31764707, 0.67843139, 0.80392158, 0.31764707, 0.4627451 ,\n",
       "       0.1882353 , 0.03137255, 0.06666667, 0.00784314, 0.42352942,\n",
       "       1.        , 0.25098041, 0.        , 0.        , 0.6901961 ,\n",
       "       0.80784315, 0.        , 0.        , 0.73725492, 0.7647059 ,\n",
       "       1.        , 0.34901962, 0.        , 0.        , 0.        ,\n",
       "       0.        , 0.27450982, 1.        , 0.21176471, 0.54509807,\n",
       "       0.96470588, 0.23921569, 0.50588238, 0.79607844, 0.99215686,\n",
       "       1.        , 0.96862745, 0.98823529, 0.82352942, 0.16470589,\n",
       "       0.        , 0.        , 0.58823532, 0.89803922, 0.        ,\n",
       "       0.        , 0.41960785, 0.27058825, 0.90588236, 0.62352943,\n",
       "       0.        , 0.        , 0.        , 0.        , 0.38039216,\n",
       "       1.        , 0.10588235, 0.10588235, 0.96470588, 1.        ,\n",
       "       0.99607843, 0.99607843, 1.        , 1.        , 1.        ,\n",
       "       1.        , 1.        , 1.        , 0.90588236, 0.65098041,\n",
       "       0.72156864, 0.99215686, 0.28235295, 0.16078432, 1.        ,\n",
       "       1.        , 0.99215686, 0.50196081, 0.        , 0.        ,\n",
       "       0.        , 0.        , 0.43921569, 1.        , 0.08235294,\n",
       "       0.        , 0.63137257, 1.        , 0.96470588, 0.83137256,\n",
       "       0.68627453, 0.38039216, 0.09803922, 0.18431373, 0.27058825,\n",
       "       0.36078432, 0.6156863 , 0.87058824, 1.        , 1.        ,\n",
       "       1.        , 0.88627452, 0.85882354, 0.98039216, 0.87843138,\n",
       "       0.04705882, 0.        , 0.        , 0.        , 0.        ,\n",
       "       0.16862746, 1.        , 0.43529412, 0.17254902, 0.9137255 ,\n",
       "       0.87058824, 0.1254902 , 0.        , 0.        , 0.        ,\n",
       "       0.        , 0.        , 0.        , 0.        , 0.        ,\n",
       "       0.        , 0.1254902 , 0.37254903, 0.50588238, 0.61960787,\n",
       "       0.65490198, 0.52549022, 0.10196079, 0.        , 0.        ,\n",
       "       0.        , 0.        , 0.        , 0.        , 0.70588237,\n",
       "       0.93725491, 0.9137255 , 0.87058824, 0.12156863, 0.        ,\n",
       "       0.        , 0.        , 0.        , 0.        , 0.        ,\n",
       "       0.        , 0.        , 0.        , 0.        , 0.        ,\n",
       "       0.        , 0.        , 0.        , 0.        , 0.        ,\n",
       "       0.        , 0.        , 0.        , 0.        , 0.        ,\n",
       "       0.        , 0.        , 0.1254902 , 0.9254902 , 0.84705883,\n",
       "       0.12156863, 0.        , 0.        , 0.        , 0.        ,\n",
       "       0.        , 0.        , 0.        , 0.        , 0.        ,\n",
       "       0.        , 0.        , 0.        , 0.        , 0.        ,\n",
       "       0.        , 0.        , 0.        , 0.        , 0.        ,\n",
       "       0.        , 0.        , 0.        , 0.        , 0.        ,\n",
       "       0.        , 0.01960784, 0.        , 0.        , 0.        ,\n",
       "       0.        , 0.        , 0.        , 0.        , 0.        ,\n",
       "       0.        , 0.        , 0.        , 0.        , 0.        ,\n",
       "       0.        , 0.        , 0.        , 0.        , 0.        ,\n",
       "       0.        , 0.        , 0.        , 0.        , 0.        ,\n",
       "       0.        , 0.        , 0.        , 0.        , 0.        ,\n",
       "       0.        , 0.        , 0.        , 0.        , 0.        ,\n",
       "       0.        , 0.        , 0.        , 0.        , 0.        ,\n",
       "       0.        , 0.        , 0.        , 0.        , 0.        ,\n",
       "       0.        , 0.        , 0.        , 0.        , 0.        ,\n",
       "       0.        , 0.        , 0.        , 0.        , 0.        ,\n",
       "       0.        , 0.        , 0.        , 0.        , 0.        ,\n",
       "       0.        , 0.        , 0.        , 0.        , 0.        ,\n",
       "       0.        , 0.        , 0.        , 0.        , 0.        ,\n",
       "       0.        , 0.        , 0.        , 0.        , 0.        ,\n",
       "       0.        , 0.        , 0.        , 0.        , 0.        ,\n",
       "       0.        , 0.        , 0.        , 0.        , 0.        ,\n",
       "       0.        , 0.        , 0.        , 0.        , 0.        ,\n",
       "       0.        , 0.        , 0.        , 0.        , 0.        ,\n",
       "       0.        , 0.        , 0.        , 0.        , 0.        ,\n",
       "       0.        , 0.        , 0.        , 0.        , 0.        ,\n",
       "       0.        , 0.        , 0.        , 0.        , 0.        ,\n",
       "       0.        , 0.        , 0.        , 0.        , 0.        ,\n",
       "       0.        , 0.        , 0.        , 0.        , 0.        ,\n",
       "       0.        , 0.        , 0.        , 0.        , 0.        ,\n",
       "       0.        , 0.        , 0.        , 0.        , 0.        ,\n",
       "       0.        , 0.        , 0.        , 0.        , 0.        ,\n",
       "       0.        , 0.        , 0.        , 0.        , 0.        ,\n",
       "       0.        , 0.        , 0.        , 0.        , 0.        ,\n",
       "       0.        , 0.        , 0.        , 0.        , 0.        ,\n",
       "       0.        , 0.        , 0.        , 0.        , 0.        ,\n",
       "       0.        , 0.        , 0.        , 0.        , 0.        ,\n",
       "       0.        , 0.        , 0.        , 0.        , 0.        ,\n",
       "       0.        , 0.        , 0.        , 0.        , 0.        ,\n",
       "       0.        , 0.        , 0.        , 0.        , 0.        ,\n",
       "       0.        , 0.        , 0.        , 0.        , 0.        ,\n",
       "       0.        , 0.        , 0.        , 0.        , 0.        ,\n",
       "       0.        , 0.        , 0.        , 0.        , 0.        ,\n",
       "       0.        , 0.        , 0.        , 0.        ])"
      ]
     },
     "execution_count": 5,
     "metadata": {},
     "output_type": "execute_result"
    }
   ],
   "source": [
    "X_train[0]"
   ]
  },
  {
   "cell_type": "markdown",
   "metadata": {},
   "source": [
    "# Y"
   ]
  },
  {
   "cell_type": "code",
   "execution_count": 6,
   "metadata": {
    "scrolled": true
   },
   "outputs": [
    {
     "data": {
      "text/plain": [
       "array([9., 2., 5., 4., 8., 4., 8., 1., 3., 9., 8., 3., 8., 4., 9., 5., 6.,\n",
       "       0., 1., 7., 8., 2., 7., 9., 6., 0., 7., 7., 5., 1., 2., 8., 3., 0.,\n",
       "       7., 8., 2., 1., 0., 4., 7., 9., 2., 9., 3., 2., 3., 2., 6., 3., 9.,\n",
       "       5., 0., 8., 9., 3., 6., 0., 6., 0., 0., 5., 6., 0., 2., 4., 5., 9.,\n",
       "       4., 7., 8., 4., 3., 6., 1., 1., 7., 0., 2., 1., 1., 5., 9., 8., 4.,\n",
       "       5., 9., 7., 6., 6., 1., 4., 9., 8., 4., 4., 7., 4., 8., 5.],\n",
       "      dtype=float32)"
      ]
     },
     "execution_count": 6,
     "metadata": {},
     "output_type": "execute_result"
    }
   ],
   "source": [
    "# the label is the index of the ten categories.\n",
    "y_train[0:100]"
   ]
  },
  {
   "cell_type": "markdown",
   "metadata": {},
   "source": [
    "# Visualization"
   ]
  },
  {
   "cell_type": "code",
   "execution_count": 7,
   "metadata": {},
   "outputs": [
    {
     "data": {
      "image/png": "[encoded data removed]",
      "text/plain": [
       "<matplotlib.figure.Figure at 0x2331f599a20>"
      ]
     },
     "metadata": {},
     "output_type": "display_data"
    }
   ],
   "source": [
    "fig=plt.figure(figsize=(10, 10)) # The size of the final displayed image\n",
    "columns = 6\n",
    "rows = 6\n",
    "\n",
    "for i in range(1, columns*rows +1):\n",
    "    img = X_train[i].reshape(28,28)\n",
    "    fig.add_subplot(rows, columns, i).axis('off')\n",
    "    plt.title( 'Label: '+ str(y_train[i].astype(np.int)) )             # if y is not dummy\n",
    "    plt.imshow(img,  cmap='binary') # cmap is Colormap to control the color\n",
    "    # https://matplotlib.org/gallery/color/colormap_reference.html \n",
    "plt.show()"
   ]
  },
  {
   "cell_type": "markdown",
   "metadata": {},
   "source": [
    "# Split train into \"pure\" train and validation sets"
   ]
  },
  {
   "cell_type": "code",
   "execution_count": 8,
   "metadata": {},
   "outputs": [],
   "source": [
    "from sklearn.model_selection import train_test_split\n",
    "X_puretrain, X_val, y_puretrain, y_val = train_test_split(X_train, y_train, test_size=0.1, random_state=1)"
   ]
  },
  {
   "cell_type": "markdown",
   "metadata": {},
   "source": [
    "# KNN Model Construction"
   ]
  },
  {
   "cell_type": "code",
   "execution_count": 9,
   "metadata": {},
   "outputs": [],
   "source": [
    "from sklearn.neighbors import KNeighborsClassifier\n",
    "KNN_clf = KNeighborsClassifier()"
   ]
  },
  {
   "cell_type": "markdown",
   "metadata": {},
   "source": [
    "# Grid Search"
   ]
  },
  {
   "cell_type": "code",
   "execution_count": 10,
   "metadata": {},
   "outputs": [],
   "source": [
    "from sklearn.model_selection import GridSearchCV"
   ]
  },
  {
   "cell_type": "code",
   "execution_count": 298,
   "metadata": {},
   "outputs": [],
   "source": [
    "param_grid = [{'n_neighbors':[2,3,4,5,6,7,8,9,10,11,12,13,14,15]}]"
   ]
  },
  {
   "cell_type": "code",
   "execution_count": 299,
   "metadata": {},
   "outputs": [
    {
     "name": "stdout",
     "output_type": "stream",
     "text": [
      "10969.240164756775\n"
     ]
    }
   ],
   "source": [
    "# Set for grid search\n",
    "grid_search_1 = GridSearchCV(KNN_clf, param_grid, cv=3, return_train_score=True) # scoring can be ccustom-defined\n",
    "\n",
    "\n",
    "# Run grid search using whole training set\n",
    "start_time = time.time()\n",
    "grid_search_1.fit(X_train, y_train)\n",
    "end_time = time.time()\n",
    "\n",
    "print(end_time-start_time)"
   ]
  },
  {
   "cell_type": "code",
   "execution_count": 300,
   "metadata": {},
   "outputs": [
    {
     "name": "stdout",
     "output_type": "stream",
     "text": [
      "hours : 3.047011156876882\n"
     ]
    }
   ],
   "source": [
    "print( 'hours :', (end_time-start_time)/3600)"
   ]
  },
  {
   "cell_type": "code",
   "execution_count": 301,
   "metadata": {},
   "outputs": [
    {
     "data": {
      "text/plain": [
       "{'n_neighbors': 15}"
      ]
     },
     "execution_count": 301,
     "metadata": {},
     "output_type": "execute_result"
    }
   ],
   "source": [
    "grid_search_1.best_params_"
   ]
  },
  {
   "cell_type": "code",
   "execution_count": 302,
   "metadata": {},
   "outputs": [
    {
     "data": {
      "text/plain": [
       "{'mean_fit_time': array([2.31998968, 1.67052639, 1.80781662, 1.9243964 , 1.939381  ,\n",
       "        1.83443964, 1.73799586, 2.01683605, 1.65404546, 1.72900295,\n",
       "        1.59557903, 1.67254281, 1.75148761, 1.57858825]),\n",
       " 'mean_score_time': array([204.10824943, 209.17669344, 207.94422662, 217.10765839,\n",
       "        213.07075632, 189.67289543, 201.82321095, 208.72932041,\n",
       "        180.38376141, 179.8280828 , 178.72921836, 178.80416632,\n",
       "        178.96309447, 179.04953349]),\n",
       " 'mean_test_score': array([0.50395833, 0.532625  , 0.54529167, 0.55795833, 0.56308333,\n",
       "        0.56545833, 0.56708333, 0.570375  , 0.570125  , 0.57175   ,\n",
       "        0.57025   , 0.57141667, 0.57141667, 0.57270833]),\n",
       " 'mean_train_score': array([0.79495821, 0.75087381, 0.72712306, 0.71004047, 0.69862357,\n",
       "        0.68662403, 0.67866544, 0.66941519, 0.66408231, 0.65733212,\n",
       "        0.65295716, 0.64816585, 0.64366554, 0.63870738]),\n",
       " 'param_n_neighbors': masked_array(data=[2, 3, 4, 5, 6, 7, 8, 9, 10, 11, 12, 13, 14, 15],\n",
       "              mask=[False, False, False, False, False, False, False, False,\n",
       "                    False, False, False, False, False, False],\n",
       "        fill_value='?',\n",
       "             dtype=object),\n",
       " 'params': [{'n_neighbors': 2},\n",
       "  {'n_neighbors': 3},\n",
       "  {'n_neighbors': 4},\n",
       "  {'n_neighbors': 5},\n",
       "  {'n_neighbors': 6},\n",
       "  {'n_neighbors': 7},\n",
       "  {'n_neighbors': 8},\n",
       "  {'n_neighbors': 9},\n",
       "  {'n_neighbors': 10},\n",
       "  {'n_neighbors': 11},\n",
       "  {'n_neighbors': 12},\n",
       "  {'n_neighbors': 13},\n",
       "  {'n_neighbors': 14},\n",
       "  {'n_neighbors': 15}],\n",
       " 'rank_test_score': array([14, 13, 12, 11, 10,  9,  8,  5,  7,  2,  6,  3,  3,  1]),\n",
       " 'split0_test_score': array([0.50770641, 0.53811547, 0.55061235, 0.56435891, 0.56652504,\n",
       "        0.57343997, 0.5736066 , 0.57710572, 0.57510622, 0.57752229,\n",
       "        0.5749396 , 0.5756061 , 0.57718904, 0.57910522]),\n",
       " 'split0_train_score': array([0.79444861, 0.74610319, 0.7193465 , 0.70525965, 0.69292323,\n",
       "        0.68275402, 0.67375177, 0.66349921, 0.65999833, 0.65249646,\n",
       "        0.64824539, 0.64491123, 0.63915979, 0.63490873]),\n",
       " 'split1_test_score': array([0.50020839, 0.52713178, 0.53996833, 0.55155456, 0.55963991,\n",
       "        0.5574727 , 0.56055681, 0.56364091, 0.56514129, 0.56597483,\n",
       "        0.56555806, 0.56722514, 0.56564141, 0.56630824]),\n",
       " 'split1_train_score': array([0.7954678 , 0.75564442, 0.73489961, 0.71482129, 0.70432392,\n",
       "        0.69049404, 0.68357911, 0.67533117, 0.66816629, 0.66216779,\n",
       "        0.65766892, 0.65142048, 0.64817129, 0.64250604]),\n",
       " 'std_fit_time': array([0.07428694, 0.04248369, 0.07081854, 0.0834614 , 0.02548659,\n",
       "        0.14441645, 0.04097533, 0.02298582, 0.05596745, 0.13092446,\n",
       "        0.00449717, 0.09345412, 0.16840208, 0.008497  ]),\n",
       " 'std_score_time': array([ 2.27586937,  5.00076675,  5.07645547,  3.06379008,  1.23400319,\n",
       "         0.05147004,  2.22069287, 13.44004929,  0.45473671,  0.1009419 ,\n",
       "         0.38028014,  0.02947426,  0.31132913,  0.30082715]),\n",
       " 'std_test_score': array([0.00374901, 0.00549184, 0.00532201, 0.00640218, 0.00344256,\n",
       "        0.00798364, 0.0065249 , 0.00673241, 0.00498247, 0.00577373,\n",
       "        0.00469077, 0.00419048, 0.00577381, 0.00639849]),\n",
       " 'std_train_score': array([0.00050959, 0.00477061, 0.00777655, 0.00478082, 0.00570034,\n",
       "        0.00387001, 0.00491367, 0.00591598, 0.00408398, 0.00483567,\n",
       "        0.00471176, 0.00325463, 0.00450575, 0.00379866])}"
      ]
     },
     "execution_count": 302,
     "metadata": {},
     "output_type": "execute_result"
    }
   ],
   "source": [
    "grid_search_1.cv_results_"
   ]
  },
  {
   "cell_type": "code",
   "execution_count": 17,
   "metadata": {},
   "outputs": [
    {
     "name": "stdout",
     "output_type": "stream",
     "text": [
      "0.5249166666666667 {'n_neighbors': 1}\n",
      "0.514875 {'n_neighbors': 2}\n",
      "0.5734166666666667 {'n_neighbors': 5}\n"
     ]
    }
   ],
   "source": [
    "cv_results= grid_search_1.cv_results_\n",
    "for value , params in zip (cv_results['mean_test_score'], cv_results['params']):\n",
    "    print(value, params)\n",
    "    \n",
    "# If scoring = None, the estimator’s default scorer (if available) is used.   \n",
    "# The estimator is KNN.  Its score(X, y[, sample_weight])\tReturns the mean accuracy on the given test data and labels.\n",
    "#https://scikit-learn.org/stable/modules/generated/sklearn.neighbors.KNeighborsClassifier.html#sklearn.neighbors.KNeighborsClassifier.kneighbors"
   ]
  },
  {
   "cell_type": "markdown",
   "metadata": {},
   "source": [
    "# GridSearch 2"
   ]
  },
  {
   "cell_type": "code",
   "execution_count": 317,
   "metadata": {},
   "outputs": [
    {
     "name": "stdout",
     "output_type": "stream",
     "text": [
      "5354.698770999908\n"
     ]
    }
   ],
   "source": [
    "param_grid = [{'n_neighbors':[10, 25 , 50]}]\n",
    "\n",
    "# Set for grid search\n",
    "grid_search_2 = GridSearchCV(KNN_clf, param_grid, cv=3, return_train_score=True) # scoring can be ccustom-defined\n",
    "\n",
    "\n",
    "# Run grid search using whole training set\n",
    "start_time = time.time()\n",
    "grid_search_2.fit(X_train, y_train)\n",
    "end_time = time.time()\n",
    "\n",
    "print(end_time-start_time)"
   ]
  },
  {
   "cell_type": "code",
   "execution_count": 318,
   "metadata": {},
   "outputs": [
    {
     "data": {
      "text/plain": [
       "{'n_neighbors': 10}"
      ]
     },
     "execution_count": 318,
     "metadata": {},
     "output_type": "execute_result"
    }
   ],
   "source": [
    "grid_search_2.best_params_"
   ]
  },
  {
   "cell_type": "code",
   "execution_count": 319,
   "metadata": {},
   "outputs": [
    {
     "data": {
      "text/plain": [
       "{'mean_fit_time': array([3.59550452, 3.01361434, 2.89944633]),\n",
       " 'mean_score_time': array([202.97736875, 202.01058873, 191.02707481]),\n",
       " 'mean_test_score': array([0.585625  , 0.57779167, 0.56041667]),\n",
       " 'mean_train_score': array([0.67224993, 0.62293736, 0.58547894]),\n",
       " 'param_n_neighbors': masked_array(data=[10, 25, 50],\n",
       "              mask=[False, False, False],\n",
       "        fill_value='?',\n",
       "             dtype=object),\n",
       " 'params': [{'n_neighbors': 10}, {'n_neighbors': 25}, {'n_neighbors': 50}],\n",
       " 'rank_test_score': array([1, 2, 3]),\n",
       " 'split0_test_score': array([0.59877546, 0.58865425, 0.57053605]),\n",
       " 'split0_train_score': array([0.67143839, 0.62055385, 0.58223417]),\n",
       " 'split1_test_score': array([0.58025, 0.5755 , 0.5535 ]),\n",
       " 'split1_train_score': array([0.6728125, 0.6255   , 0.5883125]),\n",
       " 'split2_test_score': array([0.57784169, 0.56921346, 0.55720895]),\n",
       " 'split2_train_score': array([0.67249891, 0.62275823, 0.58589015]),\n",
       " 'std_fit_time': array([0.3233377 , 0.33637029, 0.25361259]),\n",
       " 'std_score_time': array([7.28290569, 8.53656349, 3.11855196]),\n",
       " 'std_test_score': array([0.0093532 , 0.00810041, 0.00731588]),\n",
       " 'std_train_score': array([0.00058795, 0.00202322, 0.00249845])}"
      ]
     },
     "execution_count": 319,
     "metadata": {},
     "output_type": "execute_result"
    }
   ],
   "source": [
    "grid_search_2.cv_results_"
   ]
  },
  {
   "cell_type": "markdown",
   "metadata": {},
   "source": [
    "# Confusion Matrix of KNN(k=5)"
   ]
  },
  {
   "cell_type": "code",
   "execution_count": 8,
   "metadata": {},
   "outputs": [
    {
     "ename": "KeyboardInterrupt",
     "evalue": "",
     "output_type": "error",
     "traceback": [
      "\u001b[1;31m---------------------------------------------------------------------------\u001b[0m",
      "\u001b[1;31mKeyboardInterrupt\u001b[0m                         Traceback (most recent call last)",
      "\u001b[1;32m<ipython-input-8-7f4354612609>\u001b[0m in \u001b[0;36m<module>\u001b[1;34m()\u001b[0m\n\u001b[0;32m      3\u001b[0m \u001b[1;33m\u001b[0m\u001b[0m\n\u001b[0;32m      4\u001b[0m \u001b[1;31m# Fit the model\u001b[0m\u001b[1;33m\u001b[0m\u001b[1;33m\u001b[0m\u001b[0m\n\u001b[1;32m----> 5\u001b[1;33m \u001b[0mKNN_5\u001b[0m\u001b[1;33m.\u001b[0m\u001b[0mfit\u001b[0m\u001b[1;33m(\u001b[0m\u001b[0mX_train\u001b[0m\u001b[1;33m,\u001b[0m \u001b[0my_train\u001b[0m\u001b[1;33m)\u001b[0m\u001b[1;33m\u001b[0m\u001b[0m\n\u001b[0m",
      "\u001b[1;32m~\\Anaconda3\\lib\\site-packages\\sklearn\\neighbors\\base.py\u001b[0m in \u001b[0;36mfit\u001b[1;34m(self, X, y)\u001b[0m\n\u001b[0;32m    893\u001b[0m             \u001b[0mself\u001b[0m\u001b[1;33m.\u001b[0m\u001b[0m_y\u001b[0m \u001b[1;33m=\u001b[0m \u001b[0mself\u001b[0m\u001b[1;33m.\u001b[0m\u001b[0m_y\u001b[0m\u001b[1;33m.\u001b[0m\u001b[0mravel\u001b[0m\u001b[1;33m(\u001b[0m\u001b[1;33m)\u001b[0m\u001b[1;33m\u001b[0m\u001b[0m\n\u001b[0;32m    894\u001b[0m \u001b[1;33m\u001b[0m\u001b[0m\n\u001b[1;32m--> 895\u001b[1;33m         \u001b[1;32mreturn\u001b[0m \u001b[0mself\u001b[0m\u001b[1;33m.\u001b[0m\u001b[0m_fit\u001b[0m\u001b[1;33m(\u001b[0m\u001b[0mX\u001b[0m\u001b[1;33m)\u001b[0m\u001b[1;33m\u001b[0m\u001b[0m\n\u001b[0m\u001b[0;32m    896\u001b[0m \u001b[1;33m\u001b[0m\u001b[0m\n\u001b[0;32m    897\u001b[0m \u001b[1;33m\u001b[0m\u001b[0m\n",
      "\u001b[1;32m~\\Anaconda3\\lib\\site-packages\\sklearn\\neighbors\\base.py\u001b[0m in \u001b[0;36m_fit\u001b[1;34m(self, X)\u001b[0m\n\u001b[0;32m    255\u001b[0m             self._tree = KDTree(X, self.leaf_size,\n\u001b[0;32m    256\u001b[0m                                 \u001b[0mmetric\u001b[0m\u001b[1;33m=\u001b[0m\u001b[0mself\u001b[0m\u001b[1;33m.\u001b[0m\u001b[0meffective_metric_\u001b[0m\u001b[1;33m,\u001b[0m\u001b[1;33m\u001b[0m\u001b[0m\n\u001b[1;32m--> 257\u001b[1;33m                                 **self.effective_metric_params_)\n\u001b[0m\u001b[0;32m    258\u001b[0m         \u001b[1;32melif\u001b[0m \u001b[0mself\u001b[0m\u001b[1;33m.\u001b[0m\u001b[0m_fit_method\u001b[0m \u001b[1;33m==\u001b[0m \u001b[1;34m'brute'\u001b[0m\u001b[1;33m:\u001b[0m\u001b[1;33m\u001b[0m\u001b[0m\n\u001b[0;32m    259\u001b[0m             \u001b[0mself\u001b[0m\u001b[1;33m.\u001b[0m\u001b[0m_tree\u001b[0m \u001b[1;33m=\u001b[0m \u001b[1;32mNone\u001b[0m\u001b[1;33m\u001b[0m\u001b[0m\n",
      "\u001b[1;31mKeyboardInterrupt\u001b[0m: "
     ]
    }
   ],
   "source": [
    "from sklearn.neighbors import KNeighborsClassifier\n",
    "KNN_5=KNeighborsClassifier(n_neighbors=5)\n",
    "\n",
    "# Fit the model\n",
    "KNN_5.fit(X_train, y_train)"
   ]
  },
  {
   "cell_type": "code",
   "execution_count": 19,
   "metadata": {},
   "outputs": [
    {
     "data": {
      "text/plain": [
       "array([3., 4., 2., ..., 5., 6., 4.], dtype=float32)"
      ]
     },
     "execution_count": 19,
     "metadata": {},
     "output_type": "execute_result"
    }
   ],
   "source": [
    "prediction = KNN_5.predict(X_test)\n",
    "prediction"
   ]
  },
  {
   "cell_type": "code",
   "execution_count": 20,
   "metadata": {},
   "outputs": [
    {
     "data": {
      "text/plain": [
       "array([[0. , 0. , 0. , ..., 0. , 0. , 0. ],\n",
       "       [0. , 0. , 0. , ..., 0. , 0. , 0. ],\n",
       "       [0. , 0. , 0.4, ..., 0. , 0. , 0.2],\n",
       "       ...,\n",
       "       [0. , 0. , 0. , ..., 0.4, 0.2, 0. ],\n",
       "       [0. , 0. , 0. , ..., 0. , 0. , 0. ],\n",
       "       [0. , 0. , 0. , ..., 0. , 0. , 0. ]])"
      ]
     },
     "execution_count": 20,
     "metadata": {},
     "output_type": "execute_result"
    }
   ],
   "source": [
    "prediction_prob = KNN_5.predict_proba(X_test)\n",
    "prediction_prob"
   ]
  },
  {
   "cell_type": "code",
   "execution_count": 37,
   "metadata": {},
   "outputs": [],
   "source": [
    "from sklearn.metrics import confusion_matrix\n",
    "\n",
    "cm = confusion_matrix(y_test, prediction, labels=[0,1,2,3,4,5,6,7,8,9])\n",
    "recall = np.diag(cm) / np.sum(cm, axis = 1)\n",
    "precision = np.diag(cm) / np.sum(cm, axis = 0)"
   ]
  },
  {
   "cell_type": "code",
   "execution_count": 38,
   "metadata": {},
   "outputs": [
    {
     "data": {
      "text/plain": [
       "array([[383,  11,  15,   4,  19,  34,  18, 120,  32,   9],\n",
       "       [ 38, 372,  13,  32,  14,  12,  16,  82,  28,   4],\n",
       "       [ 69,  25, 365,  16,   9,  26,   7,  37,  25,  36],\n",
       "       [ 26,  78,  26, 314,  40,  21,   9,  53,  11,  16],\n",
       "       [ 32,  20,   7,  24, 382,  16,   6,  28,  44,   6],\n",
       "       [ 89,  43,  29,  20,  53, 193,  14,  91,  28,  22],\n",
       "       [ 45,  51,  18,  13,  20,  30, 277,  88,  58,  16],\n",
       "       [ 27,  37,  12,  16,  14,  17,  10, 433,  17,  10],\n",
       "       [ 23,  34,  19,  12,  30,  14,  15,  52, 341,  19],\n",
       "       [ 16,   9,  13,   7,   5,   7,  11,  34,  14, 504]], dtype=int64)"
      ]
     },
     "execution_count": 38,
     "metadata": {},
     "output_type": "execute_result"
    }
   ],
   "source": [
    "cm"
   ]
  },
  {
   "cell_type": "code",
   "execution_count": 29,
   "metadata": {},
   "outputs": [
    {
     "data": {
      "text/plain": [
       "array([383,  11,  15,   4,  19,  34,  18, 120,  32,   9], dtype=int64)"
      ]
     },
     "execution_count": 29,
     "metadata": {},
     "output_type": "execute_result"
    }
   ],
   "source": [
    "cm[0]"
   ]
  },
  {
   "cell_type": "code",
   "execution_count": 26,
   "metadata": {},
   "outputs": [
    {
     "data": {
      "text/plain": [
       "645"
      ]
     },
     "execution_count": 26,
     "metadata": {},
     "output_type": "execute_result"
    }
   ],
   "source": [
    "cm[0].sum()"
   ]
  },
  {
   "cell_type": "code",
   "execution_count": 28,
   "metadata": {},
   "outputs": [
    {
     "data": {
      "text/plain": [
       "645"
      ]
     },
     "execution_count": 28,
     "metadata": {},
     "output_type": "execute_result"
    }
   ],
   "source": [
    "sum(y_test==0)"
   ]
  },
  {
   "cell_type": "code",
   "execution_count": 35,
   "metadata": {},
   "outputs": [
    {
     "data": {
      "text/plain": [
       "748"
      ]
     },
     "execution_count": 35,
     "metadata": {},
     "output_type": "execute_result"
    }
   ],
   "source": [
    "sum(cm[:, 0])"
   ]
  },
  {
   "cell_type": "code",
   "execution_count": 34,
   "metadata": {},
   "outputs": [
    {
     "data": {
      "text/plain": [
       "748"
      ]
     },
     "execution_count": 34,
     "metadata": {},
     "output_type": "execute_result"
    }
   ],
   "source": [
    "sum(prediction==0)"
   ]
  },
  {
   "cell_type": "code",
   "execution_count": 22,
   "metadata": {},
   "outputs": [
    {
     "data": {
      "text/plain": [
       "array([0.59379845, 0.60883797, 0.59349593, 0.52861953, 0.67610619,\n",
       "       0.33161512, 0.44967532, 0.7301855 , 0.61001789, 0.81290323])"
      ]
     },
     "execution_count": 22,
     "metadata": {},
     "output_type": "execute_result"
    }
   ],
   "source": [
    "recall"
   ]
  },
  {
   "cell_type": "code",
   "execution_count": 23,
   "metadata": {},
   "outputs": [
    {
     "data": {
      "text/plain": [
       "array([0.51203209, 0.54705882, 0.70599613, 0.68558952, 0.65187713,\n",
       "       0.52162162, 0.7232376 , 0.42534381, 0.57023411, 0.78504673])"
      ]
     },
     "execution_count": 23,
     "metadata": {},
     "output_type": "execute_result"
    }
   ],
   "source": [
    "precision"
   ]
  },
  {
   "cell_type": "code",
   "execution_count": 39,
   "metadata": {},
   "outputs": [
    {
     "data": {
      "text/plain": [
       "array([0.54989232, 0.57629744, 0.64487633, 0.59695817, 0.66377063,\n",
       "       0.40546218, 0.55455455, 0.53755431, 0.58945549, 0.79873217])"
      ]
     },
     "execution_count": 39,
     "metadata": {},
     "output_type": "execute_result"
    }
   ],
   "source": [
    "F1_score = 2/ ((1/precision) + (1/recall))\n",
    "F1_score"
   ]
  },
  {
   "cell_type": "code",
   "execution_count": 44,
   "metadata": {},
   "outputs": [
    {
     "data": {
      "text/html": [
       "<div>\n",
       "<style scoped>\n",
       "    .dataframe tbody tr th:only-of-type {\n",
       "        vertical-align: middle;\n",
       "    }\n",
       "\n",
       "    .dataframe tbody tr th {\n",
       "        vertical-align: top;\n",
       "    }\n",
       "\n",
       "    .dataframe thead th {\n",
       "        text-align: right;\n",
       "    }\n",
       "</style>\n",
       "<table border=\"1\" class=\"dataframe\">\n",
       "  <thead>\n",
       "    <tr style=\"text-align: right;\">\n",
       "      <th></th>\n",
       "      <th>Class</th>\n",
       "      <th>f1 socre</th>\n",
       "      <th>precision</th>\n",
       "      <th>recall</th>\n",
       "    </tr>\n",
       "  </thead>\n",
       "  <tbody>\n",
       "    <tr>\n",
       "      <th>0</th>\n",
       "      <td>ant</td>\n",
       "      <td>0.549892</td>\n",
       "      <td>0.512032</td>\n",
       "      <td>0.593798</td>\n",
       "    </tr>\n",
       "    <tr>\n",
       "      <th>1</th>\n",
       "      <td>bear</td>\n",
       "      <td>0.576297</td>\n",
       "      <td>0.547059</td>\n",
       "      <td>0.608838</td>\n",
       "    </tr>\n",
       "    <tr>\n",
       "      <th>2</th>\n",
       "      <td>bee</td>\n",
       "      <td>0.644876</td>\n",
       "      <td>0.705996</td>\n",
       "      <td>0.593496</td>\n",
       "    </tr>\n",
       "    <tr>\n",
       "      <th>3</th>\n",
       "      <td>cat</td>\n",
       "      <td>0.596958</td>\n",
       "      <td>0.685590</td>\n",
       "      <td>0.528620</td>\n",
       "    </tr>\n",
       "    <tr>\n",
       "      <th>4</th>\n",
       "      <td>crab</td>\n",
       "      <td>0.663771</td>\n",
       "      <td>0.651877</td>\n",
       "      <td>0.676106</td>\n",
       "    </tr>\n",
       "    <tr>\n",
       "      <th>5</th>\n",
       "      <td>dragon</td>\n",
       "      <td>0.405462</td>\n",
       "      <td>0.521622</td>\n",
       "      <td>0.331615</td>\n",
       "    </tr>\n",
       "    <tr>\n",
       "      <th>6</th>\n",
       "      <td>elephant</td>\n",
       "      <td>0.554555</td>\n",
       "      <td>0.723238</td>\n",
       "      <td>0.449675</td>\n",
       "    </tr>\n",
       "    <tr>\n",
       "      <th>7</th>\n",
       "      <td>mouse</td>\n",
       "      <td>0.537554</td>\n",
       "      <td>0.425344</td>\n",
       "      <td>0.730185</td>\n",
       "    </tr>\n",
       "    <tr>\n",
       "      <th>8</th>\n",
       "      <td>sea turtle</td>\n",
       "      <td>0.589455</td>\n",
       "      <td>0.570234</td>\n",
       "      <td>0.610018</td>\n",
       "    </tr>\n",
       "    <tr>\n",
       "      <th>9</th>\n",
       "      <td>snail</td>\n",
       "      <td>0.798732</td>\n",
       "      <td>0.785047</td>\n",
       "      <td>0.812903</td>\n",
       "    </tr>\n",
       "  </tbody>\n",
       "</table>\n",
       "</div>"
      ],
      "text/plain": [
       "        Class  f1 socre  precision    recall\n",
       "0         ant  0.549892   0.512032  0.593798\n",
       "1        bear  0.576297   0.547059  0.608838\n",
       "2         bee  0.644876   0.705996  0.593496\n",
       "3         cat  0.596958   0.685590  0.528620\n",
       "4        crab  0.663771   0.651877  0.676106\n",
       "5      dragon  0.405462   0.521622  0.331615\n",
       "6    elephant  0.554555   0.723238  0.449675\n",
       "7       mouse  0.537554   0.425344  0.730185\n",
       "8  sea turtle  0.589455   0.570234  0.610018\n",
       "9       snail  0.798732   0.785047  0.812903"
      ]
     },
     "execution_count": 44,
     "metadata": {},
     "output_type": "execute_result"
    }
   ],
   "source": [
    "PRF1 = pd.DataFrame({ 'Class': Class,'f1 socre': F1_score, 'precision':precision, 'recall':recall})\n",
    "PRF1"
   ]
  },
  {
   "cell_type": "markdown",
   "metadata": {},
   "source": [
    "# Confusion Matrix of KNN(k=13)"
   ]
  },
  {
   "cell_type": "code",
   "execution_count": 50,
   "metadata": {},
   "outputs": [
    {
     "data": {
      "text/plain": [
       "KNeighborsClassifier(algorithm='auto', leaf_size=30, metric='minkowski',\n",
       "           metric_params=None, n_jobs=None, n_neighbors=13, p=2,\n",
       "           weights='uniform')"
      ]
     },
     "execution_count": 50,
     "metadata": {},
     "output_type": "execute_result"
    }
   ],
   "source": [
    "# Fit the model\n",
    "KNN_13=KNeighborsClassifier(n_neighbors=13)\n",
    "KNN_13.fit(X_train, y_train)"
   ]
  },
  {
   "cell_type": "code",
   "execution_count": 51,
   "metadata": {},
   "outputs": [],
   "source": [
    "prediction13 = KNN_13.predict(X_test)"
   ]
  },
  {
   "cell_type": "code",
   "execution_count": 52,
   "metadata": {},
   "outputs": [
    {
     "data": {
      "text/plain": [
       "array([3., 4., 3., ..., 5., 6., 4.], dtype=float32)"
      ]
     },
     "execution_count": 52,
     "metadata": {},
     "output_type": "execute_result"
    }
   ],
   "source": [
    "prediction13 "
   ]
  },
  {
   "cell_type": "code",
   "execution_count": 54,
   "metadata": {},
   "outputs": [],
   "source": [
    "from sklearn.metrics import confusion_matrix\n",
    "\n",
    "cm = confusion_matrix(y_test, prediction13, labels=[0,1,2,3,4,5,6,7,8,9])\n",
    "recall = np.diag(cm) / np.sum(cm, axis = 1)\n",
    "precision = np.diag(cm) / np.sum(cm, axis = 0)\n",
    "F1_score = 2/ ((1/precision) + (1/recall))"
   ]
  },
  {
   "cell_type": "code",
   "execution_count": 55,
   "metadata": {},
   "outputs": [
    {
     "data": {
      "text/html": [
       "<div>\n",
       "<style scoped>\n",
       "    .dataframe tbody tr th:only-of-type {\n",
       "        vertical-align: middle;\n",
       "    }\n",
       "\n",
       "    .dataframe tbody tr th {\n",
       "        vertical-align: top;\n",
       "    }\n",
       "\n",
       "    .dataframe thead th {\n",
       "        text-align: right;\n",
       "    }\n",
       "</style>\n",
       "<table border=\"1\" class=\"dataframe\">\n",
       "  <thead>\n",
       "    <tr style=\"text-align: right;\">\n",
       "      <th></th>\n",
       "      <th>Class</th>\n",
       "      <th>f1 socre</th>\n",
       "      <th>precision</th>\n",
       "      <th>recall</th>\n",
       "    </tr>\n",
       "  </thead>\n",
       "  <tbody>\n",
       "    <tr>\n",
       "      <th>0</th>\n",
       "      <td>ant</td>\n",
       "      <td>0.589825</td>\n",
       "      <td>0.605220</td>\n",
       "      <td>0.575194</td>\n",
       "    </tr>\n",
       "    <tr>\n",
       "      <th>1</th>\n",
       "      <td>bear</td>\n",
       "      <td>0.591459</td>\n",
       "      <td>0.582540</td>\n",
       "      <td>0.600655</td>\n",
       "    </tr>\n",
       "    <tr>\n",
       "      <th>2</th>\n",
       "      <td>bee</td>\n",
       "      <td>0.669058</td>\n",
       "      <td>0.746000</td>\n",
       "      <td>0.606504</td>\n",
       "    </tr>\n",
       "    <tr>\n",
       "      <th>3</th>\n",
       "      <td>cat</td>\n",
       "      <td>0.596421</td>\n",
       "      <td>0.728155</td>\n",
       "      <td>0.505051</td>\n",
       "    </tr>\n",
       "    <tr>\n",
       "      <th>4</th>\n",
       "      <td>crab</td>\n",
       "      <td>0.659704</td>\n",
       "      <td>0.648973</td>\n",
       "      <td>0.670796</td>\n",
       "    </tr>\n",
       "    <tr>\n",
       "      <th>5</th>\n",
       "      <td>dragon</td>\n",
       "      <td>0.441057</td>\n",
       "      <td>0.539801</td>\n",
       "      <td>0.372852</td>\n",
       "    </tr>\n",
       "    <tr>\n",
       "      <th>6</th>\n",
       "      <td>elephant</td>\n",
       "      <td>0.565306</td>\n",
       "      <td>0.760989</td>\n",
       "      <td>0.449675</td>\n",
       "    </tr>\n",
       "    <tr>\n",
       "      <th>7</th>\n",
       "      <td>mouse</td>\n",
       "      <td>0.534325</td>\n",
       "      <td>0.404329</td>\n",
       "      <td>0.787521</td>\n",
       "    </tr>\n",
       "    <tr>\n",
       "      <th>8</th>\n",
       "      <td>sea turtle</td>\n",
       "      <td>0.594947</td>\n",
       "      <td>0.546407</td>\n",
       "      <td>0.652952</td>\n",
       "    </tr>\n",
       "    <tr>\n",
       "      <th>9</th>\n",
       "      <td>snail</td>\n",
       "      <td>0.800310</td>\n",
       "      <td>0.769345</td>\n",
       "      <td>0.833871</td>\n",
       "    </tr>\n",
       "  </tbody>\n",
       "</table>\n",
       "</div>"
      ],
      "text/plain": [
       "        Class  f1 socre  precision    recall\n",
       "0         ant  0.589825   0.605220  0.575194\n",
       "1        bear  0.591459   0.582540  0.600655\n",
       "2         bee  0.669058   0.746000  0.606504\n",
       "3         cat  0.596421   0.728155  0.505051\n",
       "4        crab  0.659704   0.648973  0.670796\n",
       "5      dragon  0.441057   0.539801  0.372852\n",
       "6    elephant  0.565306   0.760989  0.449675\n",
       "7       mouse  0.534325   0.404329  0.787521\n",
       "8  sea turtle  0.594947   0.546407  0.652952\n",
       "9       snail  0.800310   0.769345  0.833871"
      ]
     },
     "execution_count": 55,
     "metadata": {},
     "output_type": "execute_result"
    }
   ],
   "source": [
    "PRF1_KNN13 = pd.DataFrame({ 'Class': Class,'f1 socre': F1_score, 'precision':precision, 'recall':recall})\n",
    "PRF1_KNN13"
   ]
  },
  {
   "cell_type": "code",
   "execution_count": 316,
   "metadata": {},
   "outputs": [
    {
     "name": "stdout",
     "output_type": "stream",
     "text": [
      "0.6331759287537098 0.6055070798017784 0.6042412076694105\n"
     ]
    }
   ],
   "source": [
    "print( np.mean(PRF1_KNN13['precision']), np.mean(PRF1_KNN13['recall']), np.mean(PRF1_KNN13['f1 socre']) )"
   ]
  },
  {
   "cell_type": "code",
   "execution_count": 310,
   "metadata": {},
   "outputs": [
    {
     "data": {
      "text/plain": [
       "0.6055"
      ]
     },
     "execution_count": 310,
     "metadata": {},
     "output_type": "execute_result"
    }
   ],
   "source": [
    "KNN13_Acc = sum(prediction13 == y_test) / len(y_test)\n",
    "KNN13_Acc"
   ]
  },
  {
   "cell_type": "markdown",
   "metadata": {},
   "source": [
    "#  Precision and Recall\n",
    "https://scikit-learn.org/stable/modules/generated/sklearn.metrics.precision_recall_curve.html"
   ]
  },
  {
   "cell_type": "code",
   "execution_count": 57,
   "metadata": {},
   "outputs": [
    {
     "name": "stdout",
     "output_type": "stream",
     "text": [
      "[0.66666667 0.5        1.         1.        ]\n",
      "[1.  0.5 0.5 0. ]\n",
      "[0.35 0.4  0.8 ]\n"
     ]
    }
   ],
   "source": [
    "from sklearn.metrics import precision_recall_curve\n",
    "\n",
    "y_true = np.array([0, 0, 1, 1])\n",
    "y_scores = np.array([0.1, 0.4, 0.35, 0.8])  # probas_pred = Estimated probabilities or decision function\n",
    "precision, recall, thresholds = precision_recall_curve(y_true, y_scores)\n",
    "\n",
    "print(precision)  \n",
    "print(recall)\n",
    "print(thresholds)\n"
   ]
  },
  {
   "cell_type": "code",
   "execution_count": 58,
   "metadata": {},
   "outputs": [
    {
     "data": {
      "text/plain": [
       "array([[0.        , 0.        , 0.        , ..., 0.07692308, 0.        ,\n",
       "        0.        ],\n",
       "       [0.        , 0.        , 0.        , ..., 0.        , 0.        ,\n",
       "        0.        ],\n",
       "       [0.        , 0.        , 0.23076923, ..., 0.        , 0.        ,\n",
       "        0.30769231],\n",
       "       ...,\n",
       "       [0.        , 0.        , 0.07692308, ..., 0.15384615, 0.15384615,\n",
       "        0.        ],\n",
       "       [0.        , 0.        , 0.        , ..., 0.23076923, 0.        ,\n",
       "        0.        ],\n",
       "       [0.        , 0.        , 0.        , ..., 0.        , 0.        ,\n",
       "        0.        ]])"
      ]
     },
     "execution_count": 58,
     "metadata": {},
     "output_type": "execute_result"
    }
   ],
   "source": [
    "y_probas_pred= KNN_13.predict_proba(X_test)\n",
    "y_probas_pred"
   ]
  },
  {
   "cell_type": "code",
   "execution_count": 59,
   "metadata": {},
   "outputs": [
    {
     "data": {
      "text/plain": [
       "array([0.        , 0.        , 0.        , 0.92307692, 0.        ,\n",
       "       0.        , 0.        , 0.07692308, 0.        , 0.        ])"
      ]
     },
     "execution_count": 59,
     "metadata": {},
     "output_type": "execute_result"
    }
   ],
   "source": [
    "y_probas_pred[0]"
   ]
  },
  {
   "cell_type": "code",
   "execution_count": 69,
   "metadata": {},
   "outputs": [
    {
     "data": {
      "text/plain": [
       "[0.9230769230769231,\n",
       " 1.0,\n",
       " 0.38461538461538464,\n",
       " 0.6923076923076923,\n",
       " 0.5384615384615384,\n",
       " 0.6923076923076923,\n",
       " 0.6923076923076923,\n",
       " 0.7692307692307693,\n",
       " 0.38461538461538464,\n",
       " 0.7692307692307693]"
      ]
     },
     "execution_count": 69,
     "metadata": {},
     "output_type": "execute_result"
    }
   ],
   "source": [
    "y_estimated_prob=[]\n",
    "for i in y_probas_pred:\n",
    "    y_estimated_prob.append(np.max(i))\n",
    "    \n",
    "y_estimated_prob[0:10]"
   ]
  },
  {
   "cell_type": "markdown",
   "metadata": {},
   "source": [
    "# Cross Validation Prediction\n",
    "Get the scores of all instances in the trainning set\n",
    "\n",
    "https://scikit-learn.org/stable/modules/generated/sklearn.model_selection.cross_val_predict.html"
   ]
  },
  {
   "cell_type": "code",
   "execution_count": 79,
   "metadata": {},
   "outputs": [],
   "source": [
    "from sklearn.model_selection import cross_val_predict\n",
    "# y_scores = cross_val_predict(KNN_13,X_train, y_train, cv=3, method= 'predict_proba')\n",
    "KNN_13= KNeighborsClassifier(n_neighbors=13)\n",
    "y_scores = cross_val_predict(KNN_13,X_train, y_train, cv=3, method= \"predict_proba\")\n",
    "# For method=’predict_proba’, the columns correspond to the classes in sorted order."
   ]
  },
  {
   "cell_type": "code",
   "execution_count": 81,
   "metadata": {},
   "outputs": [
    {
     "data": {
      "text/plain": [
       "(24000, 10)"
      ]
     },
     "execution_count": 81,
     "metadata": {},
     "output_type": "execute_result"
    }
   ],
   "source": [
    "y_scores[0:15] \n",
    "y_scores.shape"
   ]
  },
  {
   "cell_type": "code",
   "execution_count": 77,
   "metadata": {},
   "outputs": [
    {
     "data": {
      "text/plain": [
       "array([4., 2., 4., 4., 0., 4., 8., 1., 7., 9., 2., 7., 8., 7., 9.],\n",
       "      dtype=float32)"
      ]
     },
     "execution_count": 77,
     "metadata": {},
     "output_type": "execute_result"
    }
   ],
   "source": [
    "y_scores[0:15] "
   ]
  },
  {
   "cell_type": "code",
   "execution_count": 78,
   "metadata": {},
   "outputs": [
    {
     "data": {
      "text/plain": [
       "array([3., 4., 3., 2., 7., 0., 0., 1., 6., 9., 7., 6., 1., 4., 2.],\n",
       "      dtype=float32)"
      ]
     },
     "execution_count": 78,
     "metadata": {},
     "output_type": "execute_result"
    }
   ],
   "source": [
    "prediction13[0:15]"
   ]
  },
  {
   "cell_type": "markdown",
   "metadata": {},
   "source": [
    "#  Precision versus Recall\n",
    "https://scikit-learn.org/stable/modules/generated/sklearn.metrics.precision_recall_curve.html"
   ]
  },
  {
   "cell_type": "markdown",
   "metadata": {},
   "source": [
    "Convert y_train and y_test into dummy (binary indicator)"
   ]
  },
  {
   "cell_type": "code",
   "execution_count": 99,
   "metadata": {},
   "outputs": [
    {
     "name": "stdout",
     "output_type": "stream",
     "text": [
      "y_train_dummy \n",
      "    0.0  1.0  2.0  3.0  4.0  5.0  6.0  7.0  8.0  9.0\n",
      "0    0    0    0    0    0    0    0    0    0    1\n",
      "1    0    0    1    0    0    0    0    0    0    0\n",
      "2    0    0    0    0    0    1    0    0    0    0\n",
      "3    0    0    0    0    1    0    0    0    0    0\n",
      "4    0    0    0    0    0    0    0    0    1    0\n",
      "y_test_dummy \n",
      "    0.0  1.0  2.0  3.0  4.0  5.0  6.0  7.0  8.0  9.0\n",
      "0    0    0    0    1    0    0    0    0    0    0\n",
      "1    0    0    0    0    1    0    0    0    0    0\n",
      "2    0    0    0    0    0    0    0    0    0    1\n",
      "3    0    0    1    0    0    0    0    0    0    0\n",
      "4    0    0    0    0    0    0    0    1    0    0\n"
     ]
    }
   ],
   "source": [
    "y_train_dummy = pd.get_dummies(y_train)\n",
    "y_test_dummy = pd.get_dummies(y_test)\n",
    "print('y_train_dummy', '\\n', y_train_dummy.head())\n",
    "print('y_test_dummy', '\\n', y_test_dummy.head())"
   ]
  },
  {
   "cell_type": "markdown",
   "metadata": {},
   "source": [
    "###  For label 0, Class 0, Ant "
   ]
  },
  {
   "cell_type": "code",
   "execution_count": 100,
   "metadata": {},
   "outputs": [],
   "source": [
    "y_train_C0 = y_train_dummy.iloc[:,0]\n",
    "y_test_C0 = y_test_dummy.iloc[:,0]"
   ]
  },
  {
   "cell_type": "code",
   "execution_count": 209,
   "metadata": {
    "scrolled": true
   },
   "outputs": [],
   "source": [
    "#y_train_C0.shape"
   ]
  },
  {
   "cell_type": "code",
   "execution_count": 210,
   "metadata": {},
   "outputs": [],
   "source": [
    "#y_test_C0.shape"
   ]
  },
  {
   "cell_type": "code",
   "execution_count": 104,
   "metadata": {},
   "outputs": [
    {
     "data": {
      "text/plain": [
       "KNeighborsClassifier(algorithm='auto', leaf_size=30, metric='minkowski',\n",
       "           metric_params=None, n_jobs=None, n_neighbors=13, p=2,\n",
       "           weights='uniform')"
      ]
     },
     "execution_count": 104,
     "metadata": {},
     "output_type": "execute_result"
    }
   ],
   "source": [
    "# Model Construction and fitting\n",
    "KNN_13_C0_clf = KNeighborsClassifier(n_neighbors=13)\n",
    "KNN_13_C0_clf.fit(X_train, y_train_C0)"
   ]
  },
  {
   "cell_type": "code",
   "execution_count": 119,
   "metadata": {},
   "outputs": [
    {
     "data": {
      "text/plain": [
       "array([0, 0, 0, ..., 0, 0, 0], dtype=uint8)"
      ]
     },
     "execution_count": 119,
     "metadata": {},
     "output_type": "execute_result"
    }
   ],
   "source": [
    "# Prediction for C0\n",
    "pred_C0 = KNN_13_C0_clf.predict(X_test)\n",
    "pred_C0 "
   ]
  },
  {
   "cell_type": "code",
   "execution_count": 111,
   "metadata": {},
   "outputs": [
    {
     "data": {
      "text/plain": [
       "array([[1., 0.],\n",
       "       [1., 0.],\n",
       "       [1., 0.],\n",
       "       ...,\n",
       "       [1., 0.],\n",
       "       [1., 0.],\n",
       "       [1., 0.]])"
      ]
     },
     "execution_count": 111,
     "metadata": {},
     "output_type": "execute_result"
    }
   ],
   "source": [
    "# Predicted prob on testing set\n",
    "pred_prob_C0 = KNN_13_C0_clf.predict_proba(X_test)\n",
    "pred_prob_C0 # 1th-column is the estimated probability for target class"
   ]
  },
  {
   "cell_type": "code",
   "execution_count": 127,
   "metadata": {
    "scrolled": true
   },
   "outputs": [
    {
     "name": "stdout",
     "output_type": "stream",
     "text": [
      "true C0 label \n",
      " 4    0\n",
      "5    0\n",
      "6    1\n",
      "7    0\n",
      "Name: 0.0, dtype: uint8 \n",
      "\n",
      "predicted C0 label \n",
      " [0 1 1 0] \n",
      "\n",
      "predicted prob \n",
      " [[1.         0.        ]\n",
      " [0.30769231 0.69230769]\n",
      " [0.30769231 0.69230769]\n",
      " [0.92307692 0.07692308]] \n",
      "\n"
     ]
    }
   ],
   "source": [
    "print('true C0 label','\\n', y_test_C0.iloc[4:8], '\\n')\n",
    "print('predicted C0 label','\\n', pred_C0 [4:8], '\\n')\n",
    "print('predicted prob', '\\n', pred_prob_C0[4:8], '\\n')"
   ]
  },
  {
   "cell_type": "code",
   "execution_count": 222,
   "metadata": {},
   "outputs": [
    {
     "data": {
      "text/plain": [
       "array([0., 0., 0., ..., 0., 0., 0.])"
      ]
     },
     "execution_count": 222,
     "metadata": {},
     "output_type": "execute_result"
    }
   ],
   "source": [
    "# The predicted prob for the target class = the y_scores\n",
    "# Note the target class is in the 1-th column\n",
    "y_scores=pred_prob_C0[:,1]\n",
    "y_scores    "
   ]
  },
  {
   "cell_type": "code",
   "execution_count": 223,
   "metadata": {},
   "outputs": [],
   "source": [
    "from sklearn.metrics import precision_recall_curve\n",
    "precision, recall, threshold = precision_recall_curve(y_test_C0, y_scores  )"
   ]
  },
  {
   "cell_type": "code",
   "execution_count": 224,
   "metadata": {},
   "outputs": [
    {
     "data": {
      "image/png": "[encoded data removed]",
      "text/plain": [
       "<matplotlib.figure.Figure at 0x2332617d9e8>"
      ]
     },
     "metadata": {},
     "output_type": "display_data"
    }
   ],
   "source": [
    "def plot_PR_Curve_vs_threshold(precision, recall, threshold):\n",
    "    plt.plot(threshold, precision[:-1], \"b--\", label=\"Precision\")\n",
    "    plt.plot(threshold, recall[:-1], \"g-\", label=\"Recall\")\n",
    "    plt.xlabel('Threshold')\n",
    "    plt.legend(loc='center left')\n",
    "    plt.ylim([0,1.1])\n",
    "    \n",
    "plot_PR_Curve_vs_threshold(precision, recall, threshold)"
   ]
  },
  {
   "cell_type": "code",
   "execution_count": 225,
   "metadata": {},
   "outputs": [
    {
     "data": {
      "image/png": "[encoded data removed]",
      "text/plain": [
       "<matplotlib.figure.Figure at 0x23326256828>"
      ]
     },
     "metadata": {},
     "output_type": "display_data"
    }
   ],
   "source": [
    "def plot_PR_Curve(precision, recall, title):\n",
    "    plt.plot( recall[:-1], precision[:-1], 'red')\n",
    "    plt.xlabel('Recall')\n",
    "    plt.ylabel('Precision')\n",
    "    plt.axis([0,1,0,1])\n",
    "    plt.title( 'PR Curve: '+title)\n",
    "\n",
    "plot_PR_Curve(precision, recall, 'Class_Ant')"
   ]
  },
  {
   "cell_type": "code",
   "execution_count": 226,
   "metadata": {},
   "outputs": [
    {
     "data": {
      "text/plain": [
       "0.6664242751812235"
      ]
     },
     "execution_count": 226,
     "metadata": {},
     "output_type": "execute_result"
    }
   ],
   "source": [
    "from sklearn import metrics\n",
    "pr_auc_score_C0 = metrics.auc(recall, precision)\n",
    "pr_auc_score_C0"
   ]
  },
  {
   "cell_type": "markdown",
   "metadata": {},
   "source": [
    "### Area under PR Curve\n",
    "For label 0, Class 0, Ant"
   ]
  },
  {
   "cell_type": "code",
   "execution_count": 227,
   "metadata": {},
   "outputs": [],
   "source": [
    "def plot_ROC_Curve(precision, recall, title):\n",
    "    plt.plot(fpr, tpr)\n",
    "    plt.plot([1,0],[1,0], 'k--')\n",
    "    plt.xlabel('False Positive Rate')\n",
    "    plt.ylabel('True Positive Rate')\n",
    "    plt.title( 'POC Curve: '+title)"
   ]
  },
  {
   "cell_type": "code",
   "execution_count": 228,
   "metadata": {},
   "outputs": [
    {
     "name": "stdout",
     "output_type": "stream",
     "text": [
      "0.8877942081225255\n",
      "0.8877942081225255\n"
     ]
    },
    {
     "data": {
      "image/png": "[encoded data removed]",
      "text/plain": [
       "<matplotlib.figure.Figure at 0x233262b1b38>"
      ]
     },
     "metadata": {},
     "output_type": "display_data"
    }
   ],
   "source": [
    "# ROC plot\n",
    "from sklearn import metrics\n",
    "fpr, tpr, thresholds = metrics.roc_curve(y_test_C0 , y_scores )\n",
    "plot_ROC_Curve(fpr,tpr, 'Class_Ant')\n",
    "\n",
    "# AUC of ROC\n",
    "roc_auc_score_C0 = roc_auc_score(y_test_C0, y_scores)\n",
    "print(roc_auc_score_C0)\n",
    "print(metrics.auc(fpr, tpr))\n",
    "# Both ways will work to compute area under the curve"
   ]
  },
  {
   "cell_type": "markdown",
   "metadata": {},
   "source": [
    "# For label 1, Class 1, Bear"
   ]
  },
  {
   "cell_type": "code",
   "execution_count": 166,
   "metadata": {},
   "outputs": [],
   "source": [
    "y_train_C1 = y_train_dummy.iloc[:,1]\n",
    "y_test_C1 = y_test_dummy.iloc[:,1]"
   ]
  },
  {
   "cell_type": "code",
   "execution_count": 167,
   "metadata": {},
   "outputs": [
    {
     "data": {
      "text/plain": [
       "KNeighborsClassifier(algorithm='auto', leaf_size=30, metric='minkowski',\n",
       "           metric_params=None, n_jobs=None, n_neighbors=13, p=2,\n",
       "           weights='uniform')"
      ]
     },
     "execution_count": 167,
     "metadata": {},
     "output_type": "execute_result"
    }
   ],
   "source": [
    "# Model Construction and fitting\n",
    "KNN_13_C1_clf = KNeighborsClassifier(n_neighbors=13)\n",
    "KNN_13_C1_clf.fit(X_train, y_train_C1)"
   ]
  },
  {
   "cell_type": "code",
   "execution_count": 168,
   "metadata": {},
   "outputs": [],
   "source": [
    "# Predicted prob on testing set\n",
    "pred_prob_C1 = KNN_13_C1_clf.predict_proba(X_test)"
   ]
  },
  {
   "cell_type": "code",
   "execution_count": 229,
   "metadata": {},
   "outputs": [],
   "source": [
    "# The predicted prob, y_scores\n",
    "y_scores=pred_prob_C1[:,1]"
   ]
  },
  {
   "cell_type": "code",
   "execution_count": 230,
   "metadata": {},
   "outputs": [],
   "source": [
    "precision, recall, threshold = precision_recall_curve(y_test_C1, y_scores  )"
   ]
  },
  {
   "cell_type": "code",
   "execution_count": 231,
   "metadata": {},
   "outputs": [
    {
     "data": {
      "image/png": "[encoded data removed]",
      "text/plain": [
       "<matplotlib.figure.Figure at 0x23326276208>"
      ]
     },
     "metadata": {},
     "output_type": "display_data"
    }
   ],
   "source": [
    "plot_PR_Curve_vs_threshold(precision, recall, threshold)"
   ]
  },
  {
   "cell_type": "code",
   "execution_count": 232,
   "metadata": {},
   "outputs": [
    {
     "data": {
      "image/png": "[encoded data removed]",
      "text/plain": [
       "<matplotlib.figure.Figure at 0x233263678d0>"
      ]
     },
     "metadata": {},
     "output_type": "display_data"
    }
   ],
   "source": [
    "plot_PR_Curve(precision, recall, 'Class_Bear')"
   ]
  },
  {
   "cell_type": "code",
   "execution_count": 234,
   "metadata": {},
   "outputs": [
    {
     "data": {
      "text/plain": [
       "0.6525931909375178"
      ]
     },
     "execution_count": 234,
     "metadata": {},
     "output_type": "execute_result"
    }
   ],
   "source": [
    "pr_auc_score_C1 = metrics.auc(recall, precision)\n",
    "pr_auc_score_C1"
   ]
  },
  {
   "cell_type": "code",
   "execution_count": 237,
   "metadata": {},
   "outputs": [
    {
     "name": "stdout",
     "output_type": "stream",
     "text": [
      "0.8780301693544983\n",
      "0.8780301693544983\n"
     ]
    },
    {
     "data": {
      "image/png": "[encoded data removed]",
      "text/plain": [
       "<matplotlib.figure.Figure at 0x2332633a400>"
      ]
     },
     "metadata": {},
     "output_type": "display_data"
    }
   ],
   "source": [
    "# ROC plot\n",
    "from sklearn import metrics\n",
    "fpr, tpr, thresholds = metrics.roc_curve(y_test_C1 , y_scores )\n",
    "plot_ROC_Curve(fpr,tpr, 'Class_Bear')\n",
    "\n",
    "# AUC of ROC\n",
    "roc_auc_score_C1 = roc_auc_score(y_test_C1, y_scores)\n",
    "print(roc_auc_score_C1)\n",
    "print(metrics.auc(fpr, tpr))\n",
    "# Both ways will work to compute area under the curve"
   ]
  },
  {
   "cell_type": "markdown",
   "metadata": {},
   "source": [
    "## PR Curve In multi-label settings"
   ]
  },
  {
   "cell_type": "code",
   "execution_count": 254,
   "metadata": {},
   "outputs": [],
   "source": [
    "with open('xtrain_doodle.pickle', 'rb') as f:\n",
    "    X_train = pickle.load(f)\n",
    "\n",
    "with open('xtest_doodle.pickle', 'rb') as f:\n",
    "    X_test = pickle.load(f)\n",
    "\n",
    "with open('ytrain_doodle.pickle', 'rb') as f:\n",
    "    y_train = pickle.load(f)\n",
    "\n",
    "with open('ytest_doodle.pickle', 'rb') as f:\n",
    "    y_test = pickle.load(f)"
   ]
  },
  {
   "cell_type": "code",
   "execution_count": 5,
   "metadata": {},
   "outputs": [],
   "source": [
    "random_state = np.random.RandomState(0)"
   ]
  },
  {
   "cell_type": "code",
   "execution_count": 9,
   "metadata": {},
   "outputs": [],
   "source": [
    "# label_binarize\n",
    "from sklearn.preprocessing import label_binarize\n",
    "\n",
    "# Use label_binarize to be multi-label like settings\n",
    "y_train_binarize = label_binarize(y_train, classes=[0, 1, 2, 3, 4, 5, 6, 7, 8, 9])\n",
    "y_test_binarize = label_binarize(y_test, classes=[0, 1, 2, 3, 4, 5, 6, 7, 8, 9])\n",
    "n_classes = 10"
   ]
  },
  {
   "cell_type": "code",
   "execution_count": 10,
   "metadata": {},
   "outputs": [],
   "source": [
    "# We use OneVsRestClassifier for multi-label prediction\n",
    "from sklearn.multiclass import OneVsRestClassifier\n",
    "\n",
    "# Run classifier\n",
    "classifier = OneVsRestClassifier( KNeighborsClassifier(n_neighbors=13))\n",
    "classifier.fit(X_train, y_train_binarize )\n",
    "y_score = classifier.predict_proba(X_test)"
   ]
  },
  {
   "cell_type": "code",
   "execution_count": 11,
   "metadata": {},
   "outputs": [
    {
     "data": {
      "text/plain": [
       "(6000, 10)"
      ]
     },
     "execution_count": 11,
     "metadata": {},
     "output_type": "execute_result"
    }
   ],
   "source": [
    "y_score.shape"
   ]
  },
  {
   "cell_type": "code",
   "execution_count": 12,
   "metadata": {},
   "outputs": [
    {
     "data": {
      "text/plain": [
       "array([0.        , 0.        , 0.        , 0.92307692, 0.        ,\n",
       "       0.        , 0.        , 0.07692308, 0.        , 0.        ])"
      ]
     },
     "execution_count": 12,
     "metadata": {},
     "output_type": "execute_result"
    }
   ],
   "source": [
    "y_score[0]"
   ]
  },
  {
   "cell_type": "markdown",
   "metadata": {},
   "source": [
    "# The average precision score in multi-label settings"
   ]
  },
  {
   "cell_type": "code",
   "execution_count": 13,
   "metadata": {},
   "outputs": [
    {
     "name": "stdout",
     "output_type": "stream",
     "text": [
      "Average precision score, micro-averaged over all classes: 0.63\n"
     ]
    }
   ],
   "source": [
    "from sklearn.metrics import precision_recall_curve\n",
    "from sklearn.metrics import average_precision_score\n",
    "\n",
    "# For each class\n",
    "precision = dict()\n",
    "recall = dict()\n",
    "average_precision = dict()\n",
    "for i in range(n_classes):\n",
    "    precision[i], recall[i], _ = precision_recall_curve (y_test_binarize[:, i], y_score[:, i])\n",
    "    average_precision[i]       = average_precision_score(y_test_binarize[:, i], y_score[:, i])\n",
    "\n",
    "# A \"micro-average\": quantifying score on all classes jointly\n",
    "precision[\"micro\"], recall[\"micro\"], _ = precision_recall_curve (y_test_binarize.ravel(),y_score.ravel())\n",
    "average_precision[\"micro\"]             = average_precision_score(y_test_binarize, y_score, average=\"micro\")\n",
    "\n",
    "\n",
    "print('Average precision score, micro-averaged over all classes: {0:0.2f}'.format(average_precision[\"micro\"]))"
   ]
  },
  {
   "cell_type": "code",
   "execution_count": 14,
   "metadata": {},
   "outputs": [
    {
     "data": {
      "text/plain": [
       "{0: 0.6240711380657332,\n",
       " 1: 0.6171017168517228,\n",
       " 2: 0.7104007136629686,\n",
       " 3: 0.6394545244395505,\n",
       " 4: 0.7159147383422624,\n",
       " 5: 0.42748517252639817,\n",
       " 6: 0.6142674288005944,\n",
       " 7: 0.6299733774412575,\n",
       " 8: 0.6277757731951032,\n",
       " 9: 0.8653721841656927,\n",
       " 'micro': 0.6254079638410011}"
      ]
     },
     "execution_count": 14,
     "metadata": {},
     "output_type": "execute_result"
    }
   ],
   "source": [
    "average_precision"
   ]
  },
  {
   "cell_type": "code",
   "execution_count": 15,
   "metadata": {},
   "outputs": [
    {
     "data": {
      "text/plain": [
       "0.6254079638410011"
      ]
     },
     "execution_count": 15,
     "metadata": {},
     "output_type": "execute_result"
    }
   ],
   "source": [
    "from sklearn.metrics import average_precision_score\n",
    "average_precision_score(y_test_binarize, y_score , average = 'micro')"
   ]
  },
  {
   "cell_type": "code",
   "execution_count": 16,
   "metadata": {},
   "outputs": [
    {
     "ename": "NameError",
     "evalue": "name 'prediction13' is not defined",
     "output_type": "error",
     "traceback": [
      "\u001b[1;31m---------------------------------------------------------------------------\u001b[0m",
      "\u001b[1;31mNameError\u001b[0m                                 Traceback (most recent call last)",
      "\u001b[1;32m<ipython-input-16-77f8fd1fc620>\u001b[0m in \u001b[0;36m<module>\u001b[1;34m()\u001b[0m\n\u001b[0;32m      1\u001b[0m \u001b[1;31m# Precision for\u001b[0m\u001b[1;33m\u001b[0m\u001b[1;33m\u001b[0m\u001b[0m\n\u001b[0;32m      2\u001b[0m \u001b[1;32mfrom\u001b[0m \u001b[0msklearn\u001b[0m \u001b[1;32mimport\u001b[0m \u001b[0mmetrics\u001b[0m\u001b[1;33m\u001b[0m\u001b[0m\n\u001b[1;32m----> 3\u001b[1;33m \u001b[0mmetrics\u001b[0m\u001b[1;33m.\u001b[0m\u001b[0mprecision_score\u001b[0m\u001b[1;33m(\u001b[0m\u001b[0my_test\u001b[0m\u001b[1;33m,\u001b[0m \u001b[0mprediction13\u001b[0m \u001b[1;33m,\u001b[0m \u001b[0maverage\u001b[0m\u001b[1;33m=\u001b[0m\u001b[1;34m'micro'\u001b[0m\u001b[1;33m)\u001b[0m\u001b[1;33m\u001b[0m\u001b[0m\n\u001b[0m",
      "\u001b[1;31mNameError\u001b[0m: name 'prediction13' is not defined"
     ]
    }
   ],
   "source": [
    "# Precision for\n",
    "from sklearn import metrics\n",
    "metrics.precision_score(y_test, prediction13 , average='micro')  "
   ]
  },
  {
   "cell_type": "code",
   "execution_count": 331,
   "metadata": {},
   "outputs": [
    {
     "data": {
      "text/plain": [
       "0.6055"
      ]
     },
     "execution_count": 331,
     "metadata": {},
     "output_type": "execute_result"
    }
   ],
   "source": [
    "# Recall\n",
    "metrics.recall_score(y_test, prediction13, average='micro')  "
   ]
  },
  {
   "cell_type": "code",
   "execution_count": 329,
   "metadata": {},
   "outputs": [
    {
     "data": {
      "text/plain": [
       "0.6055"
      ]
     },
     "execution_count": 329,
     "metadata": {},
     "output_type": "execute_result"
    }
   ],
   "source": [
    "#f1 score\n",
    "metrics.f1_score(y_test, prediction13, average='micro') "
   ]
  },
  {
   "cell_type": "markdown",
   "metadata": {},
   "source": [
    "# Plot the micro-averaged Precision-Recall curve"
   ]
  },
  {
   "cell_type": "code",
   "execution_count": 17,
   "metadata": {},
   "outputs": [
    {
     "data": {
      "image/png": "[encoded data removed]",
      "text/plain": [
       "<matplotlib.figure.Figure at 0x23051751d68>"
      ]
     },
     "metadata": {},
     "output_type": "display_data"
    },
    {
     "data": {
      "image/png": "[encoded data removed]",
      "text/plain": [
       "<matplotlib.figure.Figure at 0x23056098860>"
      ]
     },
     "metadata": {},
     "output_type": "display_data"
    },
    {
     "name": "stdout",
     "output_type": "stream",
     "text": [
      "area under the curve:  0.6610758220219836\n"
     ]
    }
   ],
   "source": [
    "from sklearn.utils.fixes import signature\n",
    "# In matplotlib < 1.5, plt.fill_between does not have a 'step' argument\n",
    "step_kwargs = ({'step': 'post'}\n",
    "               if 'step' in signature(plt.fill_between).parameters\n",
    "               else {})\n",
    "\n",
    "\n",
    "plt.figure()\n",
    "plt.step(recall['micro'], precision['micro'], color='b', alpha=0.2,where='post')\n",
    "plt.fill_between(recall[\"micro\"], precision[\"micro\"], alpha=0.2, color='b',**step_kwargs)\n",
    "\n",
    "plt.xlabel('Recall')\n",
    "plt.ylabel('Precision')\n",
    "plt.ylim([0.0, 1.05])\n",
    "plt.xlim([0.0, 1.0])\n",
    "plt.title(\n",
    "    'Average precision score, micro-averaged over all classes: AP={0:0.2f}'\n",
    "    .format(average_precision[\"micro\"]))\n",
    "plt.show()\n",
    "\n",
    "###############################################################\n",
    "def plot_PR_Curve(precision, recall, title):\n",
    "    plt.plot( recall[:-1], precision[:-1], 'red')\n",
    "    plt.xlabel('Recall')\n",
    "    plt.ylabel('Precision')\n",
    "    plt.axis([0,1.01,0,1.01])\n",
    "    plt.title( 'PR Curve: '+title)\n",
    "    plt.show()\n",
    "\n",
    "plot_PR_Curve(precision[\"micro\"], recall[\"micro\"], \"PR curve\")\n",
    "\n",
    "################################################################\n",
    "pr_auc_score_MICRO = metrics.auc(recall[\"micro\"], precision[\"micro\"])\n",
    "print( 'area under the curve: ', pr_auc_score_MICRO )"
   ]
  },
  {
   "cell_type": "markdown",
   "metadata": {},
   "source": [
    "# Plot Precision-Recall curve for each class and iso-f1 curves"
   ]
  },
  {
   "cell_type": "code",
   "execution_count": 54,
   "metadata": {},
   "outputs": [
    {
     "data": {
      "image/png": "[encoded data removed]",
      "text/plain": [
       "<matplotlib.figure.Figure at 0x230561ea2e8>"
      ]
     },
     "metadata": {},
     "output_type": "display_data"
    }
   ],
   "source": [
    "from itertools import cycle\n",
    "# setup plot details\n",
    "colors = cycle(['navy', 'turquoise', 'darkorange', 'cornflowerblue', 'teal', 'red',\n",
    "                'green', 'blue' ,'pink', 'yellow', 'brwon', 'purple'])\n",
    "\n",
    "plt.figure(figsize=(6, 4))\n",
    "f_scores = np.linspace(0.2, 0.8, num=4)\n",
    "lines = []\n",
    "labels = []\n",
    "\n",
    "# F1 scores\n",
    "for f_score in f_scores:\n",
    "    x = np.linspace(0.01, 1)\n",
    "    y = f_score * x / (2 * x - f_score)\n",
    "    l, = plt.plot(x[y >= 0], y[y >= 0], color='gray', alpha=0.2)\n",
    "    plt.annotate('f1={0:0.1f}'.format(f_score), xy=(0.9, y[45] + 0.02))\n",
    "\n",
    "lines.append(l)\n",
    "labels.append('iso-f1 curves')\n",
    "\n",
    "\n",
    "#PR curve for each class\n",
    "for i, color in zip(range(n_classes), colors):\n",
    "    l, = plt.plot(recall[i], precision[i], color=color, lw=2)\n",
    "    lines.append(l)\n",
    "    labels.append('Precision-recall for class {0} (auc= {1:0.2f})'\n",
    "                  ''.format(i, average_precision[i]))\n",
    "\n",
    "# Average PR curve\n",
    "l, = plt.plot(recall[\"micro\"], precision[\"micro\"], color='gold', linewidth=10)\n",
    "lines.append(l)\n",
    "labels.append('micro-average Precision-recall (auc = {0:0.2f})'.format(average_precision[\"micro\"]))\n",
    "\n",
    "    \n",
    "fig = plt.gcf()\n",
    "fig.subplots_adjust(bottom=0)\n",
    "plt.xlim([0.0, 1.0])\n",
    "plt.ylim([0.0, 1.05])\n",
    "plt.xlabel('Recall')\n",
    "plt.ylabel('Precision')\n",
    "plt.title('Extension of Precision-Recall curve to multi-class')\n",
    "#plt.legend(lines, labels, loc=(0, -.58), prop=dict(size=14))\n",
    "plt.legend(lines, labels, loc='lower left', prop=dict(size=9))\n",
    "\n",
    "plt.show()"
   ]
  },
  {
   "cell_type": "markdown",
   "metadata": {},
   "source": [
    "# Plot for micro-averaged ROC curve"
   ]
  },
  {
   "cell_type": "code",
   "execution_count": 34,
   "metadata": {},
   "outputs": [
    {
     "data": {
      "image/png": "[encoded data removed]",
      "text/plain": [
       "<matplotlib.figure.Figure at 0x2305646de10>"
      ]
     },
     "metadata": {},
     "output_type": "display_data"
    }
   ],
   "source": [
    "# ROC plot\n",
    "from sklearn import metrics\n",
    "\n",
    "# For each class\n",
    "fpr = dict()\n",
    "tpr = dict()\n",
    "average_ROC = dict()\n",
    "for i in range(n_classes):\n",
    "    fpr[i], tpr[i], _ =       metrics.roc_curve(y_test_binarize[:, i], y_score[:, i])\n",
    "    average_ROC [i]   = average_precision_score(y_test_binarize[:, i], y_score[:, i], average= 'micro')\n",
    "\n",
    "# A \"micro-average\": quantifying score on all classes jointly\n",
    "fpr[\"micro\"], tpr[\"micro\"], _ = metrics.roc_curve(y_test_binarize.ravel(),y_score.ravel())\n",
    "average_ROC[\"micro\"]          = metrics.roc_auc_score(y_test_binarize.ravel(),y_score.ravel())\n",
    "\n",
    "\n",
    "# Plot\n",
    "plt.figure()\n",
    "plt.step(fpr['micro'], tpr['micro'], color='b', alpha=0.2,where='post')\n",
    "plt.fill_between(fpr[\"micro\"], tpr[\"micro\"], alpha=0.2, color='b',**step_kwargs)\n",
    "\n",
    "plt.xlabel('false positive rate')\n",
    "plt.ylabel('true positive rate')\n",
    "plt.ylim([0.0, 1.05])\n",
    "plt.xlim([0.0, 1.0])\n",
    "plt.title(\n",
    "    'Average ROC score, micro-averaged over all classes: Avg_ROC={0:0.2f}'\n",
    "    .format(average_ROC[\"micro\"]))\n",
    "plt.show()"
   ]
  },
  {
   "cell_type": "code",
   "execution_count": 38,
   "metadata": {},
   "outputs": [
    {
     "name": "stdout",
     "output_type": "stream",
     "text": [
      "Average ROC score, micro-averaged over all classes: 0.89\n"
     ]
    }
   ],
   "source": [
    "print('Average ROC score, micro-averaged over all classes: {0:0.2f}'.format(average_ROC[\"micro\"]))"
   ]
  },
  {
   "cell_type": "markdown",
   "metadata": {},
   "source": [
    "# Plot ROC curve for each class "
   ]
  },
  {
   "cell_type": "code",
   "execution_count": 55,
   "metadata": {},
   "outputs": [
    {
     "data": {
      "image/png": "[encoded data removed]",
      "text/plain": [
       "<matplotlib.figure.Figure at 0x2305625d240>"
      ]
     },
     "metadata": {},
     "output_type": "display_data"
    }
   ],
   "source": [
    "from itertools import cycle\n",
    "# setup plot details\n",
    "colors = cycle(['navy', 'turquoise', 'darkorange', 'cornflowerblue', 'teal', 'red',\n",
    "                'green', 'blue' ,'pink', 'yellow', 'brwon'])\n",
    "\n",
    "plt.figure(figsize=(6, 4))\n",
    "f_scores = np.linspace(0.2, 0.8, num=4)\n",
    "lines = []\n",
    "labels = []\n",
    "\n",
    "# Diagnal line\n",
    "plt.plot([1,0],[1,0], 'k--')\n",
    "\n",
    "\n",
    "\n",
    "#ROC curve for each class\n",
    "for i, color in zip(range(n_classes), colors):\n",
    "    l, = plt.plot(fpr[i], tpr[i], color=color, lw=2)\n",
    "    lines.append(l)\n",
    "    labels.append('ROC curve for class {0} ( auc = {1:0.2f})' .format(i, average_ROC[i]))\n",
    "\n",
    "\n",
    "    \n",
    "# Average ROC curve\n",
    "l, = plt.plot(fpr[\"micro\"], tpr[\"micro\"], color='gold', lw=10)\n",
    "lines.append(l)\n",
    "labels.append('micro-average ROC (auc = {0:0.2f})'.format(average_ROC[\"micro\"]))\n",
    "    \n",
    "    \n",
    "fig = plt.gcf()\n",
    "fig.subplots_adjust(bottom=0)\n",
    "plt.xlim([0.0, 1.0])\n",
    "plt.ylim([0.0, 1.05])\n",
    "plt.xlabel('False Positive Rate')\n",
    "plt.ylabel('Ture Positive Rate')\n",
    "plt.title('Extension of ROC curve to multi-class')\n",
    "#plt.legend(lines, labels, loc=(0, -.58), prop=dict(size=14))\n",
    "plt.legend(lines, labels, loc='lower right', prop=dict(size=10))\n",
    "\n",
    "plt.show()"
   ]
  },
  {
   "cell_type": "code",
   "execution_count": null,
   "metadata": {},
   "outputs": [],
   "source": []
  }
 ],
 "metadata": {
  "kernelspec": {
   "display_name": "Python 3",
   "language": "python",
   "name": "python3"
  },
  "language_info": {
   "codemirror_mode": {
    "name": "ipython",
    "version": 3
   },
   "file_extension": ".py",
   "mimetype": "text/x-python",
   "name": "python",
   "nbconvert_exporter": "python",
   "pygments_lexer": "ipython3",
   "version": "3.6.3"
  }
 },
 "nbformat": 4,
 "nbformat_minor": 2
}
